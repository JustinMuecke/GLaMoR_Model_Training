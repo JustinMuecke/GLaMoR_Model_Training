{
 "cells": [
  {
   "cell_type": "code",
   "execution_count": 1,
   "metadata": {},
   "outputs": [],
   "source": [
    "import pandas as pd \n",
    "import torch\n",
    "import os"
   ]
  },
  {
   "cell_type": "code",
   "execution_count": 2,
   "metadata": {},
   "outputs": [],
   "source": [
    "df = pd.read_csv(\"../data/test_data.csv\", header= 0)\n",
    "df[\"file_name\"] = df[\"file_name\"].map(lambda x : x.split(\".\")[0] + \".npy\")\n",
    "df = df[df[\"file_name\"].isin(os.listdir(\"../data/embeddings\"))]"
   ]
  },
  {
   "cell_type": "code",
   "execution_count": 3,
   "metadata": {},
   "outputs": [],
   "source": [
    "df[\"pred\"] = torch.load(\"modles/predictions_ways-45_lr-0.0001_wd-0.0005.pt\", map_location=torch.device('cpu')).tolist()"
   ]
  },
  {
   "cell_type": "code",
   "execution_count": 6,
   "metadata": {},
   "outputs": [],
   "source": [
    "df[\"consistency\"] = df[\"consistency\"].map({\"Consistent\": 0, \"Inconsistent\": 1})"
   ]
  },
  {
   "cell_type": "code",
   "execution_count": 15,
   "metadata": {},
   "outputs": [],
   "source": [
    "df[\"pred\"] = df[\"pred\"].map({0.0 : 1, 1.0:0})"
   ]
  },
  {
   "cell_type": "code",
   "execution_count": 16,
   "metadata": {},
   "outputs": [
    {
     "data": {
      "application/vnd.microsoft.datawrangler.viewer.v0+json": {
       "columns": [
        {
         "name": "index",
         "rawType": "int64",
         "type": "integer"
        },
        {
         "name": "consistency",
         "rawType": "int64",
         "type": "integer"
        },
        {
         "name": "pred",
         "rawType": "int64",
         "type": "integer"
        }
       ],
       "conversionMethod": "pd.DataFrame",
       "ref": "ff6d9af3-7b9e-40c7-9388-423e8a69b982",
       "rows": [
        [
         "0",
         "0",
         "1"
        ],
        [
         "1",
         "0",
         "1"
        ],
        [
         "2",
         "0",
         "0"
        ],
        [
         "3",
         "0",
         "0"
        ],
        [
         "4",
         "0",
         "1"
        ],
        [
         "5",
         "0",
         "0"
        ],
        [
         "6",
         "0",
         "1"
        ],
        [
         "7",
         "0",
         "1"
        ],
        [
         "8",
         "0",
         "1"
        ],
        [
         "9",
         "0",
         "0"
        ],
        [
         "10",
         "0",
         "1"
        ],
        [
         "11",
         "0",
         "1"
        ],
        [
         "12",
         "0",
         "1"
        ],
        [
         "13",
         "0",
         "0"
        ],
        [
         "14",
         "0",
         "1"
        ],
        [
         "15",
         "0",
         "1"
        ],
        [
         "16",
         "0",
         "1"
        ],
        [
         "18",
         "0",
         "1"
        ],
        [
         "19",
         "0",
         "0"
        ],
        [
         "20",
         "0",
         "1"
        ],
        [
         "21",
         "0",
         "1"
        ],
        [
         "22",
         "0",
         "1"
        ],
        [
         "23",
         "0",
         "1"
        ],
        [
         "24",
         "0",
         "1"
        ],
        [
         "25",
         "0",
         "1"
        ],
        [
         "26",
         "0",
         "1"
        ],
        [
         "27",
         "0",
         "1"
        ],
        [
         "28",
         "0",
         "1"
        ],
        [
         "29",
         "0",
         "1"
        ],
        [
         "30",
         "0",
         "1"
        ],
        [
         "31",
         "0",
         "1"
        ],
        [
         "32",
         "0",
         "1"
        ],
        [
         "33",
         "0",
         "1"
        ],
        [
         "34",
         "0",
         "1"
        ],
        [
         "35",
         "0",
         "1"
        ],
        [
         "36",
         "0",
         "1"
        ],
        [
         "37",
         "0",
         "1"
        ],
        [
         "38",
         "0",
         "1"
        ],
        [
         "39",
         "0",
         "0"
        ],
        [
         "40",
         "0",
         "1"
        ],
        [
         "41",
         "0",
         "0"
        ],
        [
         "42",
         "0",
         "1"
        ],
        [
         "43",
         "0",
         "1"
        ],
        [
         "44",
         "0",
         "1"
        ],
        [
         "45",
         "0",
         "0"
        ],
        [
         "46",
         "0",
         "1"
        ],
        [
         "47",
         "0",
         "0"
        ],
        [
         "48",
         "0",
         "0"
        ],
        [
         "49",
         "0",
         "1"
        ],
        [
         "50",
         "0",
         "1"
        ]
       ],
       "shape": {
        "columns": 2,
        "rows": 1253
       }
      },
      "text/html": [
       "<div>\n",
       "<style scoped>\n",
       "    .dataframe tbody tr th:only-of-type {\n",
       "        vertical-align: middle;\n",
       "    }\n",
       "\n",
       "    .dataframe tbody tr th {\n",
       "        vertical-align: top;\n",
       "    }\n",
       "\n",
       "    .dataframe thead th {\n",
       "        text-align: right;\n",
       "    }\n",
       "</style>\n",
       "<table border=\"1\" class=\"dataframe\">\n",
       "  <thead>\n",
       "    <tr style=\"text-align: right;\">\n",
       "      <th></th>\n",
       "      <th>consistency</th>\n",
       "      <th>pred</th>\n",
       "    </tr>\n",
       "  </thead>\n",
       "  <tbody>\n",
       "    <tr>\n",
       "      <th>0</th>\n",
       "      <td>0</td>\n",
       "      <td>1</td>\n",
       "    </tr>\n",
       "    <tr>\n",
       "      <th>1</th>\n",
       "      <td>0</td>\n",
       "      <td>1</td>\n",
       "    </tr>\n",
       "    <tr>\n",
       "      <th>2</th>\n",
       "      <td>0</td>\n",
       "      <td>0</td>\n",
       "    </tr>\n",
       "    <tr>\n",
       "      <th>3</th>\n",
       "      <td>0</td>\n",
       "      <td>0</td>\n",
       "    </tr>\n",
       "    <tr>\n",
       "      <th>4</th>\n",
       "      <td>0</td>\n",
       "      <td>1</td>\n",
       "    </tr>\n",
       "    <tr>\n",
       "      <th>...</th>\n",
       "      <td>...</td>\n",
       "      <td>...</td>\n",
       "    </tr>\n",
       "    <tr>\n",
       "      <th>1253</th>\n",
       "      <td>1</td>\n",
       "      <td>1</td>\n",
       "    </tr>\n",
       "    <tr>\n",
       "      <th>1254</th>\n",
       "      <td>1</td>\n",
       "      <td>1</td>\n",
       "    </tr>\n",
       "    <tr>\n",
       "      <th>1255</th>\n",
       "      <td>1</td>\n",
       "      <td>1</td>\n",
       "    </tr>\n",
       "    <tr>\n",
       "      <th>1256</th>\n",
       "      <td>1</td>\n",
       "      <td>1</td>\n",
       "    </tr>\n",
       "    <tr>\n",
       "      <th>1257</th>\n",
       "      <td>1</td>\n",
       "      <td>1</td>\n",
       "    </tr>\n",
       "  </tbody>\n",
       "</table>\n",
       "<p>1253 rows × 2 columns</p>\n",
       "</div>"
      ],
      "text/plain": [
       "      consistency  pred\n",
       "0               0     1\n",
       "1               0     1\n",
       "2               0     0\n",
       "3               0     0\n",
       "4               0     1\n",
       "...           ...   ...\n",
       "1253            1     1\n",
       "1254            1     1\n",
       "1255            1     1\n",
       "1256            1     1\n",
       "1257            1     1\n",
       "\n",
       "[1253 rows x 2 columns]"
      ]
     },
     "execution_count": 16,
     "metadata": {},
     "output_type": "execute_result"
    }
   ],
   "source": [
    "df[[\"consistency\", \"pred\"]]"
   ]
  },
  {
   "cell_type": "code",
   "execution_count": 19,
   "metadata": {},
   "outputs": [
    {
     "name": "stdout",
     "output_type": "stream",
     "text": [
      "Pattern AIO: 64 /81\n",
      "Pattern EID: 165 /221\n",
      "Pattern OIL: 1 /1\n",
      "Pattern OILWI: 0 /1\n",
      "Pattern OILWPI: 0 /0\n",
      "Pattern UE: 71 /82\n",
      "Pattern UEWI1: 9 /10\n",
      "Pattern UEWI2: 9 /10\n",
      "Pattern UEWPI: 1 /1\n",
      "Pattern UEWIP: 3 /3\n",
      "Pattern SOSINETO: 1 /1\n",
      "Pattern CSC: 171 /210\n",
      "Pattern OOR: 5 /5\n",
      "Pattern OOD: 4 /4\n"
     ]
    }
   ],
   "source": [
    "PREFIXES = [\"AIO\",\"EID\",\"OIL\",\"OILWI\",\"OILWPI\",\"UE\",\"UEWI1\",\"UEWI2\",\"UEWPI\",\"UEWIP\",\"SOSINETO\",\"CSC\",\"OOR\",\"OOD\"]\n",
    "\n",
    "def get_misclassified_percentage(pattern : str):\n",
    "    correct = 0\n",
    "    total = 0\n",
    "    df_pattern = df[df[\"injected_pattern\"] == pattern]\n",
    "    print(f\"Pattern {pattern}: {len(df_pattern[df_pattern['pred'] == 1])} /{len(df_pattern)}\")\n",
    "\n",
    "for pattern in PREFIXES:\n",
    "    get_misclassified_percentage(pattern)"
   ]
  },
  {
   "cell_type": "code",
   "execution_count": 10,
   "metadata": {},
   "outputs": [],
   "source": [
    "from sklearn.metrics import accuracy_score, precision_score, recall_score\n"
   ]
  },
  {
   "cell_type": "code",
   "execution_count": 17,
   "metadata": {},
   "outputs": [],
   "source": [
    "accuracy = accuracy_score(df[\"consistency\"], df[\"pred\"])\n",
    "precision = precision_score(df[\"consistency\"], df[\"pred\"], zero_division=1)\n",
    "recall = recall_score(df[\"consistency\"], df[\"pred\"], zero_division=1)"
   ]
  },
  {
   "cell_type": "code",
   "execution_count": 18,
   "metadata": {},
   "outputs": [
    {
     "name": "stdout",
     "output_type": "stream",
     "text": [
      "Accuracy: 0.4876\n",
      "Precision: 0.4941\n",
      "Recall: 0.8000\n"
     ]
    }
   ],
   "source": [
    "print(f\"Accuracy: {accuracy:.4f}\")\n",
    "print(f\"Precision: {precision:.4f}\")\n",
    "print(f\"Recall: {recall:.4f}\")"
   ]
  },
  {
   "cell_type": "code",
   "execution_count": 21,
   "metadata": {},
   "outputs": [
    {
     "name": "stdout",
     "output_type": "stream",
     "text": [
      "False Positive Rate: 82.83%\n"
     ]
    }
   ],
   "source": [
    "def false_positive_rate(y_true, y_pred):\n",
    "    fp = ((y_pred == 1) & (y_true == 0)).sum()\n",
    "    total_negatives = (y_true == 0).sum()\n",
    "    return (fp / total_negatives) * 100 if total_negatives > 0 else 0\n",
    "fp_rate = false_positive_rate(df[\"consistency\"], df[\"pred\"])\n",
    "\n",
    "print(f\"False Positive Rate: {fp_rate:.2f}%\")\n"
   ]
  },
  {
   "cell_type": "code",
   "execution_count": null,
   "metadata": {},
   "outputs": [],
   "source": []
  }
 ],
 "metadata": {
  "kernelspec": {
   "display_name": "Python 3",
   "language": "python",
   "name": "python3"
  },
  "language_info": {
   "codemirror_mode": {
    "name": "ipython",
    "version": 3
   },
   "file_extension": ".py",
   "mimetype": "text/x-python",
   "name": "python",
   "nbconvert_exporter": "python",
   "pygments_lexer": "ipython3",
   "version": "3.10.0"
  }
 },
 "nbformat": 4,
 "nbformat_minor": 2
}
